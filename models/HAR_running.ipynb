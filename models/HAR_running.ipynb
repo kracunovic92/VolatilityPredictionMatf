{
 "cells": [
  {
   "cell_type": "code",
   "execution_count": 1,
   "metadata": {},
   "outputs": [],
   "source": [
    "import pandas as pd\n",
    "import numpy as np\n",
    "import statsmodels.formula.api as smf\n",
    "from sklearn import metrics\n",
    "import matplotlib as plt\n",
    "import warnings\n",
    "import os\n",
    "from HAR_model import *\n",
    "%matplotlib inline\n",
    "warnings.filterwarnings('ignore')"
   ]
  },
  {
   "cell_type": "code",
   "execution_count": 2,
   "metadata": {},
   "outputs": [],
   "source": [
    "\n",
    "raw_data = pd.read_csv('data/SPY_data_5min.csv')\n",
    "raw_data['time'] = pd.to_datetime(raw_data['time'])\n",
    "\n",
    "# Filter trades within the time window from 09:30 to 16:00\n",
    "raw_data = raw_data[(raw_data['time'].dt.time >= pd.to_datetime('09:30').time()) & \n",
    "                 (raw_data['time'].dt.time <= pd.to_datetime('16:00').time())]\n",
    "\n",
    "raw_data.drop(['Unnamed: 0','money','open','high','low'], axis=1, inplace=True)\n",
    "raw_data['time'] = pd.to_datetime(raw_data['time']).dt.strftime('%H:%M')\n"
   ]
  },
  {
   "cell_type": "code",
   "execution_count": 3,
   "metadata": {},
   "outputs": [],
   "source": [
    "# Defining features\n",
    "\n",
    "futures =[1, 5, 20]\n",
    "semi_variance = [True, False]\n",
    "log_transformation = [True, False]\n"
   ]
  },
  {
   "cell_type": "code",
   "execution_count": 4,
   "metadata": {},
   "outputs": [],
   "source": [
    "\n",
    "models ={}\n",
    "\n",
    "for future in futures:\n",
    "    for variance in semi_variance:\n",
    "        for log_t in log_transformation:\n",
    "            models[(future,variance,log_t)] = HARModel(\n",
    "\n",
    "                raw_data = raw_data,\n",
    "                future = future,\n",
    "                lags = [4, 20],\n",
    "                feature= 'RV',\n",
    "                semi_variance= variance,\n",
    "                log_transformation= log_t,\n",
    "                period_train= list(\n",
    "                    [\n",
    "                        pd.to_datetime(\"2006-01-01\",format = \"%Y-%m-%d\"),\n",
    "                        pd.to_datetime(\"2015-12-31\",format = \"%Y-%m-%d\"),\n",
    "                    ]\n",
    "                ),\n",
    "                period_test= list(\n",
    "                    [\n",
    "                        pd.to_datetime(\"2016-01-01\",format = \"%Y-%m-%d\"),\n",
    "                        pd.to_datetime(\"2018-12-31\",format = \"%Y-%m-%d\"),\n",
    "                    ]\n",
    "                ),\n",
    "            )\n",
    "            m = models[(future,variance,log_t)]\n",
    "            m.data_transformation()\n",
    "            m.jump_detection()\n",
    "            m.predict_values()\n",
    "            m.make_accurate_measures()"
   ]
  },
  {
   "cell_type": "code",
   "execution_count": 5,
   "metadata": {},
   "outputs": [],
   "source": [
    "output_directory = \"../output/HAR_outputdata\"\n",
    "\n",
    "os.makedirs(output_directory,exist_ok=True)\n",
    "\n",
    "for k,model in models.items():\n",
    "    future  = model.future\n",
    "    semi_variance = model.semi_variance\n",
    "    log = model.log_transformation\n",
    "\n",
    "    output_file_path = os.path.join(output_directory,f'HAR_{future}_{semi_variance}_{log}.txt')\n",
    "\n",
    "    with open(output_file_path, 'w') as output_file:\n",
    "\n",
    "        output_file.write(f\"{model.estimation_results} \\n\")\n",
    "        output_file.write(\"Train Accuracy \\n\")\n",
    "        output_file.write(f\"{model.train_accuracy} \\n\")\n",
    "        output_file.write(\"Test Accuracy \\n\")\n",
    "        output_file.write(f\"{model.test_accuracy} \\n\")"
   ]
  }
 ],
 "metadata": {
  "kernelspec": {
   "display_name": "Python 3 (ipykernel)",
   "language": "python",
   "name": "python3"
  },
  "language_info": {
   "codemirror_mode": {
    "name": "ipython",
    "version": 3
   },
   "file_extension": ".py",
   "mimetype": "text/x-python",
   "name": "python",
   "nbconvert_exporter": "python",
   "pygments_lexer": "ipython3",
   "version": "3.11.7"
  }
 },
 "nbformat": 4,
 "nbformat_minor": 4
}
