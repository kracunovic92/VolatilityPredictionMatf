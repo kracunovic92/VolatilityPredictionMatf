{
 "cells": [
  {
   "cell_type": "code",
   "execution_count": 1,
   "metadata": {},
   "outputs": [
    {
     "name": "stderr",
     "output_type": "stream",
     "text": [
      "2024-03-07 23:18:10.125269: I tensorflow/tsl/cuda/cudart_stub.cc:28] Could not find cuda drivers on your machine, GPU will not be used.\n",
      "2024-03-07 23:18:10.587829: I tensorflow/tsl/cuda/cudart_stub.cc:28] Could not find cuda drivers on your machine, GPU will not be used.\n",
      "2024-03-07 23:18:10.591101: I tensorflow/core/platform/cpu_feature_guard.cc:182] This TensorFlow binary is optimized to use available CPU instructions in performance-critical operations.\n",
      "To enable the following instructions: AVX2 FMA, in other operations, rebuild TensorFlow with the appropriate compiler flags.\n",
      "2024-03-07 23:18:13.803327: W tensorflow/compiler/tf2tensorrt/utils/py_utils.cc:38] TF-TRT Warning: Could not find TensorRT\n"
     ]
    }
   ],
   "source": [
    "import numpy as np\n",
    "import pandas as pd\n",
    "import yfinance as yf\n",
    "from sklearn.preprocessing import MinMaxScaler, StandardScaler\n",
    "from sklearn.model_selection import train_test_split\n",
    "from sklearn.metrics import mean_squared_error\n",
    "from tensorflow.keras.models import Sequential\n",
    "from tensorflow.keras.layers import LSTM, Dense\n",
    "\n",
    "import matplotlib.pylab as plt\n",
    "import seaborn as sns"
   ]
  },
  {
   "cell_type": "code",
   "execution_count": 9,
   "metadata": {},
   "outputs": [
    {
     "data": {
      "text/html": [
       "<div>\n",
       "<style scoped>\n",
       "    .dataframe tbody tr th:only-of-type {\n",
       "        vertical-align: middle;\n",
       "    }\n",
       "\n",
       "    .dataframe tbody tr th {\n",
       "        vertical-align: top;\n",
       "    }\n",
       "\n",
       "    .dataframe thead th {\n",
       "        text-align: right;\n",
       "    }\n",
       "</style>\n",
       "<table border=\"1\" class=\"dataframe\">\n",
       "  <thead>\n",
       "    <tr style=\"text-align: right;\">\n",
       "      <th></th>\n",
       "      <th>Close</th>\n",
       "      <th>Returns[%]</th>\n",
       "      <th>Rv_10</th>\n",
       "      <th>Rv_15</th>\n",
       "      <th>Rv_20</th>\n",
       "    </tr>\n",
       "    <tr>\n",
       "      <th>Date</th>\n",
       "      <th></th>\n",
       "      <th></th>\n",
       "      <th></th>\n",
       "      <th></th>\n",
       "      <th></th>\n",
       "    </tr>\n",
       "  </thead>\n",
       "  <tbody>\n",
       "    <tr>\n",
       "      <th>2014-02-05</th>\n",
       "      <td>28.473274</td>\n",
       "      <td>0.441838</td>\n",
       "      <td>0.613933</td>\n",
       "      <td>0.456266</td>\n",
       "      <td>0.504845</td>\n",
       "    </tr>\n",
       "    <tr>\n",
       "      <th>2014-02-06</th>\n",
       "      <td>28.890711</td>\n",
       "      <td>1.455422</td>\n",
       "      <td>0.628042</td>\n",
       "      <td>0.474654</td>\n",
       "      <td>0.506682</td>\n",
       "    </tr>\n",
       "    <tr>\n",
       "      <th>2014-02-07</th>\n",
       "      <td>29.326078</td>\n",
       "      <td>1.495705</td>\n",
       "      <td>0.548184</td>\n",
       "      <td>0.425570</td>\n",
       "      <td>0.459933</td>\n",
       "    </tr>\n",
       "    <tr>\n",
       "      <th>2014-02-10</th>\n",
       "      <td>29.213751</td>\n",
       "      <td>-0.383765</td>\n",
       "      <td>0.427986</td>\n",
       "      <td>0.430738</td>\n",
       "      <td>0.384515</td>\n",
       "    </tr>\n",
       "    <tr>\n",
       "      <th>2014-02-11</th>\n",
       "      <td>29.643389</td>\n",
       "      <td>1.459961</td>\n",
       "      <td>0.382514</td>\n",
       "      <td>0.454102</td>\n",
       "      <td>0.430674</td>\n",
       "    </tr>\n",
       "  </tbody>\n",
       "</table>\n",
       "</div>"
      ],
      "text/plain": [
       "                Close  Returns[%]     Rv_10     Rv_15     Rv_20\n",
       "Date                                                           \n",
       "2014-02-05  28.473274    0.441838  0.613933  0.456266  0.504845\n",
       "2014-02-06  28.890711    1.455422  0.628042  0.474654  0.506682\n",
       "2014-02-07  29.326078    1.495705  0.548184  0.425570  0.459933\n",
       "2014-02-10  29.213751   -0.383765  0.427986  0.430738  0.384515\n",
       "2014-02-11  29.643389    1.459961  0.382514  0.454102  0.430674"
      ]
     },
     "execution_count": 9,
     "metadata": {},
     "output_type": "execute_result"
    }
   ],
   "source": [
    "data = pd.read_csv('data/GOOG.csv').set_index('Date')\n",
    "data = data.drop(['Adj Close','Volume','High','Low','Open'], axis= 1)\n",
    "data['Returns[%]'] = (np.log(data['Close']) - np.log(data['Close'].shift(1))) * 100\n",
    "data = data.dropna()\n",
    "  # Function to calculate squared deviations from average return within a window\n",
    "def squared_deviations(window_data):\n",
    "    average_return = window_data.mean()\n",
    "    return ((window_data - average_return)**2).mean()\n",
    "\n",
    "windows = [10,15,20]\n",
    "for i in windows:\n",
    "    data[f'Rv_{i}'] = data['Returns[%]'].rolling(window= i).apply(squared_deviations).shift(-(i-1))\n",
    "data.head()"
   ]
  },
  {
   "cell_type": "code",
   "execution_count": 10,
   "metadata": {},
   "outputs": [
    {
     "data": {
      "text/html": [
       "<div>\n",
       "<style scoped>\n",
       "    .dataframe tbody tr th:only-of-type {\n",
       "        vertical-align: middle;\n",
       "    }\n",
       "\n",
       "    .dataframe tbody tr th {\n",
       "        vertical-align: top;\n",
       "    }\n",
       "\n",
       "    .dataframe thead th {\n",
       "        text-align: right;\n",
       "    }\n",
       "</style>\n",
       "<table border=\"1\" class=\"dataframe\">\n",
       "  <thead>\n",
       "    <tr style=\"text-align: right;\">\n",
       "      <th></th>\n",
       "      <th>Close</th>\n",
       "      <th>Returns[%]</th>\n",
       "      <th>Rv_10</th>\n",
       "      <th>Rv_15</th>\n",
       "      <th>Rv_20</th>\n",
       "    </tr>\n",
       "  </thead>\n",
       "  <tbody>\n",
       "    <tr>\n",
       "      <th>count</th>\n",
       "      <td>2516.000000</td>\n",
       "      <td>2516.000000</td>\n",
       "      <td>2507.000000</td>\n",
       "      <td>2502.000000</td>\n",
       "      <td>2497.000000</td>\n",
       "    </tr>\n",
       "    <tr>\n",
       "      <th>mean</th>\n",
       "      <td>70.110941</td>\n",
       "      <td>0.064470</td>\n",
       "      <td>2.835056</td>\n",
       "      <td>2.926262</td>\n",
       "      <td>2.972402</td>\n",
       "    </tr>\n",
       "    <tr>\n",
       "      <th>std</th>\n",
       "      <td>37.791500</td>\n",
       "      <td>1.758127</td>\n",
       "      <td>3.765310</td>\n",
       "      <td>3.453358</td>\n",
       "      <td>3.224251</td>\n",
       "    </tr>\n",
       "    <tr>\n",
       "      <th>min</th>\n",
       "      <td>24.560070</td>\n",
       "      <td>-11.766725</td>\n",
       "      <td>0.044236</td>\n",
       "      <td>0.067998</td>\n",
       "      <td>0.080841</td>\n",
       "    </tr>\n",
       "    <tr>\n",
       "      <th>25%</th>\n",
       "      <td>38.115499</td>\n",
       "      <td>-0.712886</td>\n",
       "      <td>0.868681</td>\n",
       "      <td>0.998130</td>\n",
       "      <td>1.086128</td>\n",
       "    </tr>\n",
       "    <tr>\n",
       "      <th>50%</th>\n",
       "      <td>57.540749</td>\n",
       "      <td>0.084532</td>\n",
       "      <td>1.647343</td>\n",
       "      <td>1.848489</td>\n",
       "      <td>1.986548</td>\n",
       "    </tr>\n",
       "    <tr>\n",
       "      <th>75%</th>\n",
       "      <td>102.174503</td>\n",
       "      <td>0.923336</td>\n",
       "      <td>3.279695</td>\n",
       "      <td>3.557040</td>\n",
       "      <td>3.777856</td>\n",
       "    </tr>\n",
       "    <tr>\n",
       "      <th>max</th>\n",
       "      <td>154.839996</td>\n",
       "      <td>14.887184</td>\n",
       "      <td>40.737450</td>\n",
       "      <td>34.426843</td>\n",
       "      <td>29.672392</td>\n",
       "    </tr>\n",
       "  </tbody>\n",
       "</table>\n",
       "</div>"
      ],
      "text/plain": [
       "             Close   Returns[%]        Rv_10        Rv_15        Rv_20\n",
       "count  2516.000000  2516.000000  2507.000000  2502.000000  2497.000000\n",
       "mean     70.110941     0.064470     2.835056     2.926262     2.972402\n",
       "std      37.791500     1.758127     3.765310     3.453358     3.224251\n",
       "min      24.560070   -11.766725     0.044236     0.067998     0.080841\n",
       "25%      38.115499    -0.712886     0.868681     0.998130     1.086128\n",
       "50%      57.540749     0.084532     1.647343     1.848489     1.986548\n",
       "75%     102.174503     0.923336     3.279695     3.557040     3.777856\n",
       "max     154.839996    14.887184    40.737450    34.426843    29.672392"
      ]
     },
     "execution_count": 10,
     "metadata": {},
     "output_type": "execute_result"
    }
   ],
   "source": [
    "data.describe()"
   ]
  },
  {
   "cell_type": "code",
   "execution_count": 24,
   "metadata": {},
   "outputs": [
    {
     "data": {
      "text/plain": [
       "[<matplotlib.lines.Line2D at 0x7f11609eab10>]"
      ]
     },
     "execution_count": 24,
     "metadata": {},
     "output_type": "execute_result"
    },
    {
     "data": {
      "image/png": "[encoded data removed]",
      "text/plain": [
       "<Figure size 640x480 with 1 Axes>"
      ]
     },
     "metadata": {},
     "output_type": "display_data"
    }
   ],
   "source": [
    "plt.plot(data['Rv_10'])"
   ]
  }
 ],
 "metadata": {
  "kernelspec": {
   "display_name": "Python 3",
   "language": "python",
   "name": "python3"
  },
  "language_info": {
   "codemirror_mode": {
    "name": "ipython",
    "version": 3
   },
   "file_extension": ".py",
   "mimetype": "text/x-python",
   "name": "python",
   "nbconvert_exporter": "python",
   "pygments_lexer": "ipython3",
   "version": "3.11.7"
  }
 },
 "nbformat": 4,
 "nbformat_minor": 2
}
