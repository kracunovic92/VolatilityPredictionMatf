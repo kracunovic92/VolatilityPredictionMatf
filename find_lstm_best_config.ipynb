{
 "cells": [
  {
   "cell_type": "code",
   "execution_count": 1,
   "metadata": {},
   "outputs": [
    {
     "name": "stderr",
     "output_type": "stream",
     "text": [
      "2024-05-10 16:31:26.839999: I tensorflow/core/platform/cpu_feature_guard.cc:182] This TensorFlow binary is optimized to use available CPU instructions in performance-critical operations.\n",
      "To enable the following instructions: SSE3 SSE4.1 SSE4.2 AVX AVX2 FMA, in other operations, rebuild TensorFlow with the appropriate compiler flags.\n"
     ]
    }
   ],
   "source": [
    "#imports\n",
    "from LSTM import LSTM\n",
    "import DataPreparationLSTM\n",
    "import os\n",
    "import pandas as pd\n",
    "from sklearn.model_selection import TimeSeriesSplit"
   ]
  },
  {
   "cell_type": "code",
   "execution_count": null,
   "metadata": {},
   "outputs": [],
   "source": [
    "input_data = pd.read_csv('data/SPY_data_5min.csv')\n",
    "input_data['time'] = pd.to_datetime(input_data['time'])\n",
    "\n",
    "# Filter trades within the time window from 09:30 to 16:00\n",
    "input_data = input_data[(input_data['time'].dt.time >= pd.to_datetime('09:30').time()) & \n",
    "                 (input_data['time'].dt.time <= pd.to_datetime('16:00').time())]\n",
    "\n",
    "input_data.drop(['Unnamed: 0','money','open','high','low'], axis=1, inplace=True)\n",
    "input_data['time'] = pd.to_datetime(input_data['time']).dt.strftime('%H:%M')\n"
   ]
  },
  {
   "cell_type": "code",
   "execution_count": 2,
   "metadata": {},
   "outputs": [],
   "source": [
    "learning_rates = [0.001, 0.01]\n",
    "layer_one =[2,20,40]\n",
    "layer_two = [2,15,40]\n",
    "layer_three =[0,4,15]\n",
    "layer_four = [0,2,10]"
   ]
  },
  {
   "cell_type": "code",
   "execution_count": 3,
   "metadata": {},
   "outputs": [],
   "source": [
    "configs = {}\n",
    "\n",
    "for i in range(len(learning_rates)):\n",
    "    for j in range(len(layer_one)):\n",
    "        for k in range(len(layer_two)):\n",
    "            for c in range(len(layer_three)):\n",
    "                for f in range(len(layer_four)):\n",
    "                    configs[\"{}{}{}{}{}\".format(i, j, k, c, f)] = [\n",
    "                        learning_rates[i],\n",
    "                        layer_one[j],\n",
    "                        layer_two[k],\n",
    "                        layer_three[c],\n",
    "                        layer_four[f],\n",
    "                    ]"
   ]
  },
  {
   "cell_type": "code",
   "execution_count": 3,
   "metadata": {},
   "outputs": [],
   "source": [
    "futures = [1,5,20]"
   ]
  },
  {
   "cell_type": "code",
   "execution_count": null,
   "metadata": {},
   "outputs": [],
   "source": []
  },
  {
   "cell_type": "code",
   "execution_count": null,
   "metadata": {},
   "outputs": [],
   "source": [
    "models = {}\n",
    "\n",
    "for future in futures:\n",
    "    prepared_data = DataPreparationLSTM(\n",
    "        df = input_data,\n",
    "        future = future,\n",
    "        lag = 20,\n",
    "        min_max_scaler=True,\n",
    "        log_transform=True,\n",
    "        semi_variance=True,\n",
    "        jump_detect=True,\n",
    "        period_train= list(\n",
    "            [\n",
    "                pd.to_datetie(\"2006-01-01\",format = \"%Y-%m-%d\"),\n",
    "                pd.to_datetime(\"2010-12-31\",format = \"%Y-%m-%d\"),\n",
    "            ]\n",
    "        ),\n",
    "        period_validation = list(\n",
    "            [\n",
    "                pd.to_datetime(\"2011-01-01\",format = \"%Y-%m-%d\"),\n",
    "                pd.to_datetime(\"2015-12-31\",format = \"%Y-%m-%d\"),  \n",
    "            ]\n",
    "        ),\n",
    "        period_test= list(\n",
    "            [\n",
    "                pd.to_datetime(\"2016-01-01\",format = \"%Y-%m-%d\"),\n",
    "                pd.to_datetime(\"2018-12-31\",format = \"%Y-%m-%d\"),\n",
    "            ]\n",
    "        ),\n",
    "    )\n",
    "\n",
    "    prepared_data.prepare_all()\n",
    "    best_config = None\n",
    "    best_params = None\n",
    "    for (learning_rate,layer_one,layer_two,layer_three,layer_four) in configs:\n",
    "\n",
    "        folds = prepared_data.splits\n",
    "        errors = []\n",
    "        for (train_data, validate_data) in folds:\n",
    "            model = LSTM(\n",
    "                prepared_data.training_set,\n",
    "                prepared_data.validation_set,\n",
    "                prepared_data.x_train,\n",
    "                prepared_data.y_train,\n",
    "                prepared_data.validation_x,\n",
    "                prepared_data.validaiton_y,\n",
    "                epochs= 20,\n",
    "                learning_rate= learning_rate,\n",
    "                layer_one=layer_one,\n",
    "                layer_two= layer_two,\n",
    "                layer_three=layer_three,\n",
    "                layer_four = layer_four\n",
    "        \n",
    "            )\n",
    "            model.train_lstm()\n",
    "            model.make_accuracy_measures()\n",
    "\n",
    "            errors.append([model.train_accuracy, model.test_accuracy])\n",
    "        \n",
    "\n",
    "\n",
    "        model = LSTM(\n",
    "            prepared_data.training_set,\n",
    "            prepared_data.val\n",
    "        )\n",
    "\n"
   ]
  }
 ],
 "metadata": {
  "kernelspec": {
   "display_name": "Python 3 (ipykernel)",
   "language": "python",
   "name": "python3"
  },
  "language_info": {
   "codemirror_mode": {
    "name": "ipython",
    "version": 3
   },
   "file_extension": ".py",
   "mimetype": "text/x-python",
   "name": "python",
   "nbconvert_exporter": "python",
   "pygments_lexer": "ipython3",
   "version": "3.11.7"
  }
 },
 "nbformat": 4,
 "nbformat_minor": 4
}
