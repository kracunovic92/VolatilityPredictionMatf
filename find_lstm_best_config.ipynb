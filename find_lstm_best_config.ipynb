{
 "cells": [
  {
   "cell_type": "code",
   "execution_count": 5,
   "metadata": {},
   "outputs": [],
   "source": [
    "#imports\n",
    "from LSTM import LSTM\n",
    "import DataPreparationLSTM\n",
    "import os\n",
    "import pandas as pd"
   ]
  },
  {
   "cell_type": "code",
   "execution_count": null,
   "metadata": {},
   "outputs": [],
   "source": [
    "input_data = pd.read_csv('data/SPY_data_5min.csv')\n",
    "input_data['time'] = pd.to_datetime(input_data['time'])\n",
    "\n",
    "# Filter trades within the time window from 09:30 to 16:00\n",
    "input_data = input_data[(input_data['time'].dt.time >= pd.to_datetime('09:30').time()) & \n",
    "                 (input_data['time'].dt.time <= pd.to_datetime('16:00').time())]\n",
    "\n",
    "input_data.drop(['Unnamed: 0','money','open','high','low'], axis=1, inplace=True)\n",
    "input_data['time'] = pd.to_datetime(input_data['time']).dt.strftime('%H:%M')\n"
   ]
  },
  {
   "cell_type": "code",
   "execution_count": 2,
   "metadata": {},
   "outputs": [],
   "source": [
    "learning_rates = [0.001, 0.01]\n",
    "layer_one =[2,20,40]\n",
    "layer_two = [2,15,40]\n",
    "layer_three =[0,4,15]\n",
    "layer_four = [0,2,10]"
   ]
  },
  {
   "cell_type": "code",
   "execution_count": 3,
   "metadata": {},
   "outputs": [],
   "source": [
    "configs = {}\n",
    "\n",
    "for i in range(len(learning_rates)):\n",
    "    for j in range(len(layer_one)):\n",
    "        for k in range(len(layer_two)):\n",
    "            for c in range(len(layer_three)):\n",
    "                for f in range(len(layer_four)):\n",
    "                    configs[\"{}{}{}{}{}\".format(i, j, k, c, f)] = [\n",
    "                        learning_rates[i],\n",
    "                        layer_one[j],\n",
    "                        layer_two[k],\n",
    "                        layer_three[c],\n",
    "                        layer_four[f],\n",
    "                    ]"
   ]
  },
  {
   "cell_type": "code",
   "execution_count": 3,
   "metadata": {},
   "outputs": [],
   "source": [
    "futures = [1,5,20]"
   ]
  },
  {
   "cell_type": "code",
   "execution_count": null,
   "metadata": {},
   "outputs": [],
   "source": [
    "models = {}\n",
    "\n",
    "for future in futures:\n",
    "    lstm = DataPreparationLSTM(\n",
    "        df = input_data,\n",
    "        future = future,\n",
    "        lag = 20,\n",
    "        min_max_scaler=True,\n",
    "        log_transform=True,\n",
    "        semi_variance=True,\n",
    "        jump_detect=True,\n",
    "        period_train= list(\n",
    "            [\n",
    "                pd.to_datetime(\"2004-01-02\",format = \"%Y-%m-%d\"),\n",
    "                pd.to_datetime(\"2010-12-31\",format = \"%Y-%m-%d\"),\n",
    "            ]\n",
    "        ),\n",
    "        period_validation = list(\n",
    "            [\n",
    "                pd.to_datetime(\"2004-01-02\",format = \"%Y-%m-%d\"),\n",
    "                pd.to_datetime(\"2010-12-31\",format = \"%Y-%m-%d\"),  \n",
    "            ]\n",
    "        ),\n",
    "        period_test= list(\n",
    "            [\n",
    "                pd.to_datetime(\"2011-01-01\",format = \"%Y-%m-%d\"),\n",
    "                pd.to_datetime(\"2013-12-31\",format = \"%Y-%m-%d\"),\n",
    "            ]\n",
    "        ),\n",
    "    )\n",
    "\n",
    "    lstm.prepare_all()\n",
    "    tf.keras.backend.clear_session()"
   ]
  },
  {
   "cell_type": "code",
   "execution_count": null,
   "metadata": {},
   "outputs": [],
   "source": [
    "best_acc = 0\n",
    "best_params = None\n",
    "\n",
    "accs = []\n",
    "\n",
    "\n",
    "for config in configs:\n",
    "    model = LSTM(\n",
    "        lstm.training_set,\n",
    "        lstm.testing_set,\n",
    "        lstm.validation_set,\n",
    "        lstm.train_y,\n",
    "        lstm.validation_set,\n",
    "        lstm.test_y,\n",
    "        epochs = 70, # mozda i ovo da bude prom\n",
    "        learning_rate = config[0],\n",
    "        layer_one = config[1],\n",
    "        layer_two = config[2],\n",
    "        layer_three = config[3],\n",
    "        layer_four = config[4]\n",
    "    )\n",
    "    model.make_accurate_measures()\n",
    "\n"
   ]
  }
 ],
 "metadata": {
  "kernelspec": {
   "display_name": "Python 3",
   "language": "python",
   "name": "python3"
  },
  "language_info": {
   "codemirror_mode": {
    "name": "ipython",
    "version": 3
   },
   "file_extension": ".py",
   "mimetype": "text/x-python",
   "name": "python",
   "nbconvert_exporter": "python",
   "pygments_lexer": "ipython3",
   "version": "3.11.7"
  }
 },
 "nbformat": 4,
 "nbformat_minor": 2
}
