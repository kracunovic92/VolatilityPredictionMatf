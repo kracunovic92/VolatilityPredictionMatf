{
 "cells": [
  {
   "cell_type": "code",
   "execution_count": 1,
   "id": "8184f772-0225-411f-8faf-83b8309120b0",
   "metadata": {},
   "outputs": [
    {
     "name": "stderr",
     "output_type": "stream",
     "text": [
      "2024-04-13 23:18:09.797007: I tensorflow/core/platform/cpu_feature_guard.cc:182] This TensorFlow binary is optimized to use available CPU instructions in performance-critical operations.\n",
      "To enable the following instructions: SSE3 SSE4.1 SSE4.2 AVX AVX2 FMA, in other operations, rebuild TensorFlow with the appropriate compiler flags.\n"
     ]
    }
   ],
   "source": [
    "from LSTM import *\n"
   ]
  },
  {
   "cell_type": "code",
   "execution_count": 2,
   "id": "83a91e5a-c937-4a32-ab87-09f7bf621f3c",
   "metadata": {},
   "outputs": [],
   "source": [
    "input_data = pd.read_csv('data/SPY_data_5min.csv')\n",
    "input_data['time'] = pd.to_datetime(input_data['time'])\n",
    "\n",
    "# Filter trades within the time window from 09:30 to 16:00\n",
    "input_data = input_data[(input_data['time'].dt.time >= pd.to_datetime('09:30').time()) & \n",
    "                 (input_data['time'].dt.time <= pd.to_datetime('16:00').time())]\n",
    "\n",
    "input_data.drop(['Unnamed: 0','money','open','high','low'], axis=1, inplace=True)\n",
    "input_data['time'] = pd.to_datetime(input_data['time']).dt.strftime('%H:%M')\n"
   ]
  },
  {
   "cell_type": "code",
   "execution_count": 3,
   "id": "603cabdd-3383-45bf-8a5b-1ad399e1004f",
   "metadata": {},
   "outputs": [
    {
     "name": "stderr",
     "output_type": "stream",
     "text": [
      "/home/misikori/Desktop/Projects/VolatilityPredictionMatf/LSTM.py:133: SettingWithCopyWarning: \n",
      "A value is trying to be set on a copy of a slice from a DataFrame.\n",
      "Try using .loc[row_indexer,col_indexer] = value instead\n",
      "\n",
      "See the caveats in the documentation: https://pandas.pydata.org/pandas-docs/stable/user_guide/indexing.html#returning-a-view-versus-a-copy\n",
      "  df_output[\"Target\"] = help_df.mean(axis=1)\n",
      "2024-04-13 23:18:15.346414: I tensorflow/core/common_runtime/process_util.cc:146] Creating new thread pool with default inter op setting: 2. Tune using inter_op_parallelism_threads for best performance.\n"
     ]
    },
    {
     "name": "stdout",
     "output_type": "stream",
     "text": [
      "Epoch 1/70\n",
      "53/53 [==============================] - 5s 50ms/step - loss: 0.0214 - val_loss: 0.0053\n",
      "Epoch 2/70\n",
      "53/53 [==============================] - 2s 41ms/step - loss: 0.0055 - val_loss: 0.0034\n",
      "Epoch 3/70\n",
      "53/53 [==============================] - 2s 39ms/step - loss: 0.0048 - val_loss: 0.0032\n",
      "Epoch 4/70\n",
      "53/53 [==============================] - 2s 31ms/step - loss: 0.0048 - val_loss: 0.0030\n",
      "Epoch 5/70\n",
      "53/53 [==============================] - 1s 26ms/step - loss: 0.0048 - val_loss: 0.0031\n",
      "Epoch 6/70\n",
      "53/53 [==============================] - 1s 28ms/step - loss: 0.0043 - val_loss: 0.0029\n",
      "Epoch 7/70\n",
      "53/53 [==============================] - 1s 27ms/step - loss: 0.0045 - val_loss: 0.0038\n",
      "Epoch 8/70\n",
      "53/53 [==============================] - 2s 31ms/step - loss: 0.0041 - val_loss: 0.0029\n",
      "Epoch 9/70\n",
      "53/53 [==============================] - 2s 37ms/step - loss: 0.0039 - val_loss: 0.0027\n",
      "Epoch 10/70\n",
      "53/53 [==============================] - 2s 35ms/step - loss: 0.0040 - val_loss: 0.0027\n",
      "Epoch 11/70\n",
      "53/53 [==============================] - 2s 37ms/step - loss: 0.0038 - val_loss: 0.0030\n",
      "Epoch 12/70\n",
      "53/53 [==============================] - 2s 44ms/step - loss: 0.0038 - val_loss: 0.0032\n",
      "Epoch 13/70\n",
      "53/53 [==============================] - 3s 65ms/step - loss: 0.0042 - val_loss: 0.0029\n",
      "Epoch 14/70\n",
      "53/53 [==============================] - 2s 33ms/step - loss: 0.0039 - val_loss: 0.0026\n",
      "Epoch 15/70\n",
      "53/53 [==============================] - 2s 37ms/step - loss: 0.0040 - val_loss: 0.0028\n",
      "Epoch 16/70\n",
      "53/53 [==============================] - 3s 52ms/step - loss: 0.0037 - val_loss: 0.0026\n",
      "Epoch 17/70\n",
      "53/53 [==============================] - 2s 38ms/step - loss: 0.0038 - val_loss: 0.0030\n",
      "Epoch 18/70\n",
      "53/53 [==============================] - 2s 37ms/step - loss: 0.0039 - val_loss: 0.0026\n",
      "Epoch 19/70\n",
      "53/53 [==============================] - 2s 37ms/step - loss: 0.0040 - val_loss: 0.0026\n",
      "Epoch 20/70\n",
      "53/53 [==============================] - 2s 32ms/step - loss: 0.0038 - val_loss: 0.0030\n",
      "Epoch 21/70\n",
      "53/53 [==============================] - 1s 26ms/step - loss: 0.0036 - val_loss: 0.0034\n",
      "Epoch 22/70\n",
      "53/53 [==============================] - 2s 29ms/step - loss: 0.0037 - val_loss: 0.0029\n",
      "Epoch 23/70\n",
      "53/53 [==============================] - 2s 42ms/step - loss: 0.0036 - val_loss: 0.0032\n",
      "Epoch 24/70\n",
      "53/53 [==============================] - 2s 34ms/step - loss: 0.0035 - val_loss: 0.0034\n",
      "Epoch 25/70\n",
      "53/53 [==============================] - 2s 35ms/step - loss: 0.0035 - val_loss: 0.0028\n",
      "Epoch 26/70\n",
      "53/53 [==============================] - 2s 39ms/step - loss: 0.0039 - val_loss: 0.0029\n",
      "Epoch 26: early stopping\n",
      "53/53 [==============================] - 1s 16ms/step\n",
      "23/23 [==============================] - 0s 14ms/step\n"
     ]
    }
   ],
   "source": [
    "lstm = DataPreparationLSTM(\n",
    "    df = input_data,\n",
    "    future = 20,\n",
    "    lag = 20,\n",
    "    min_max_scaler=True,\n",
    "    log_transform=True,\n",
    "    semi_variance=True,\n",
    "    jump_detect=True,\n",
    "    period_train= list(\n",
    "                    [\n",
    "                        pd.to_datetime(\"2004-01-02\",format = \"%Y-%m-%d\"),\n",
    "                        pd.to_datetime(\"2010-12-31\",format = \"%Y-%m-%d\"),\n",
    "                    ]\n",
    "                ),\n",
    "                period_test= list(\n",
    "                    [\n",
    "                        pd.to_datetime(\"2011-01-01\",format = \"%Y-%m-%d\"),\n",
    "                        pd.to_datetime(\"2013-12-31\",format = \"%Y-%m-%d\"),\n",
    "                    ]\n",
    "                ),\n",
    ")\n",
    "\n",
    "lstm.prepare_all()\n",
    "\n",
    "tf.keras.backend.clear_session()\n",
    "\n",
    "model = LSTM(\n",
    "    lstm.training_set,\n",
    "    lstm.testing_set,\n",
    "    lstm.train_matrix,\n",
    "    lstm.train_y,\n",
    "    lstm.test_matrix,\n",
    "    lstm.test_y,\n",
    "    epochs = 70,\n",
    "    learning_rate = 0.01,\n",
    "    layer_one = 40,\n",
    "    layer_two = 40,\n",
    "    layer_three = 0,\n",
    "    layer_four = 0\n",
    ")\n",
    "\n",
    "model.make_accuracy_measures()"
   ]
  },
  {
   "cell_type": "code",
   "execution_count": 4,
   "id": "913afe99-f9ef-4501-ac67-f35649c0c00c",
   "metadata": {},
   "outputs": [
    {
     "data": {
      "text/plain": [
       "{'MSE': 0.005886503905786027,\n",
       " 'MAE': 0.059187877420616784,\n",
       " 'RSquared': 0.5550306297478863}"
      ]
     },
     "execution_count": 4,
     "metadata": {},
     "output_type": "execute_result"
    }
   ],
   "source": [
    "model.test_accuracy"
   ]
  },
  {
   "cell_type": "code",
   "execution_count": 5,
   "id": "f9899e1e",
   "metadata": {},
   "outputs": [
    {
     "data": {
      "text/plain": [
       "{'MSE': 0.007725745768244295,\n",
       " 'MAE': 0.06556761180901355,\n",
       " 'RSquared': 0.7131965292565485}"
      ]
     },
     "execution_count": 5,
     "metadata": {},
     "output_type": "execute_result"
    }
   ],
   "source": [
    "model.train_accuracy"
   ]
  },
  {
   "cell_type": "code",
   "execution_count": 6,
   "id": "39e099bd",
   "metadata": {},
   "outputs": [
    {
     "data": {
      "text/plain": [
       "1.268227159004435"
      ]
     },
     "execution_count": 6,
     "metadata": {},
     "output_type": "execute_result"
    }
   ],
   "source": [
    "model.fitness"
   ]
  },
  {
   "cell_type": "code",
   "execution_count": null,
   "id": "b17918ae",
   "metadata": {},
   "outputs": [],
   "source": []
  }
 ],
 "metadata": {
  "kernelspec": {
   "display_name": "Python 3 (ipykernel)",
   "language": "python",
   "name": "python3"
  },
  "language_info": {
   "codemirror_mode": {
    "name": "ipython",
    "version": 3
   },
   "file_extension": ".py",
   "mimetype": "text/x-python",
   "name": "python",
   "nbconvert_exporter": "python",
   "pygments_lexer": "ipython3",
   "version": "3.11.8"
  }
 },
 "nbformat": 4,
 "nbformat_minor": 5
}
